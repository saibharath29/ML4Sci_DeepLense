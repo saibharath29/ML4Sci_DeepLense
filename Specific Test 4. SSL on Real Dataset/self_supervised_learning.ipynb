{
 "cells": [
  {
   "cell_type": "markdown",
   "metadata": {},
   "source": [
    "### Specific Test VI. SSL on Real Dataset\n",
    "#### **Name**:potla naga sai bharath \n",
    "#### **Gmail**:[saibharathpotla29@gmail.com](mailto:saibharathpotla29@gmail.com)\n",
    "**Task:** Build a Self-Supervised Learning model for classifying the images into lenses using PyTorch or Keras. Pick the most appropriate approach and discuss your strategy.\n",
    "\n",
    "**Dataset Description:** The Dataset consists of two classes, strong lensing images with lenses and non-lenses in npy format. For non-lensing images, the images start with nl_. These images are from the Hubble Space Telescope.\n",
    "\n",
    "**Evaluation Metrics:** ROC curve (Receiver Operating Characteristic curve) and AUC score (Area Under the ROC Curve). Although the dataset is small and results may not be perfect, the pipeline should be such that with more data, the model could achieve high performance.\n",
    "\n",
    "*Trained model weigths for this task can be found in the respective folder in [HERE](https://drive.google.com/drive/folders/1DGug4hP0UZBG2zAVWiO5lAgrlnf95l_Q?usp=drive_link)*\n",
    "\n",
    "**Strategy**:\n",
    "\n",
    "After implementing an Equivariant Transformer architecture featuring custom RotationalConv2D layers designed for maintaining equivariance with respect to input rotations, we augment the model with a convolution operation applied to rotated inputs, followed by combining resulting feature maps through element-wise addition. Additionally, we leverage pre-trained ResNet50 weights for expedited learning of representations.\n",
    "\n",
    "For the loss function, we opt for contrastive loss, which incentivizes the model to generate embeddings that are closer for similar images and farther apart for dissimilar ones. Specifically, we compute the sum of squared distances between positive pairs (where y_true = 1) and the squared hinge loss between negative pairs (where y_true = 0) with a designated margin.\n",
    "\n",
    "Subsequently, post-training the embedding model, we fine-tune it for our classification task."
   ]
  },
  {
   "cell_type": "code",
   "execution_count": 2,
   "metadata": {},
   "outputs": [],
   "source": [
    "import cv2\n",
    "import os\n",
    "import numpy as np\n",
    "import matplotlib.pyplot as plt\n",
    "import tensorflow as tf"
   ]
  },
  {
   "cell_type": "code",
   "execution_count": 4,
   "metadata": {},
   "outputs": [
    {
     "name": "stdout",
     "output_type": "stream",
     "text": [
      "2.10.0\n"
     ]
    }
   ],
   "source": [
    "print(tf.__version__)"
   ]
  },
  {
   "cell_type": "code",
   "execution_count": 5,
   "metadata": {
    "execution": {
     "iopub.execute_input": "2024-03-25T14:48:36.586737Z",
     "iopub.status.busy": "2024-03-25T14:48:36.586401Z",
     "iopub.status.idle": "2024-03-25T14:48:36.688929Z",
     "shell.execute_reply": "2024-03-25T14:48:36.688032Z",
     "shell.execute_reply.started": "2024-03-25T14:48:36.586705Z"
    }
   },
   "outputs": [],
   "source": [
    "\n",
    "\n",
    "# Define the directory where your files are located\n",
    "directory = '/kaggle/working/real_hst'\n",
    "\n",
    "# Initialize lists to store the loaded data\n",
    "nl_hst_data = []\n",
    "hst_data = []\n",
    "\n",
    "# Loop through files in the directory\n",
    "for filename in os.listdir(directory):\n",
    "    if filename.endswith(\"_hst.npy\"):\n",
    "        if filename.startswith(\"nl_\"):\n",
    "            # Load files starting with \"nl_\" and ending with \"_hst.npy\"\n",
    "            filepath = os.path.join(directory, filename)\n",
    "            data = np.load(filepath)\n",
    "            nl_hst_data.append(data)\n",
    "        else:\n",
    "            # Load files ending with \"_hst.npy\" but not starting with \"nl_\"\n",
    "            filepath = os.path.join(directory, filename)\n",
    "            data = np.load(filepath)\n",
    "            hst_data.append(data)\n",
    "\n",
    "# Now nl_hst_data contains data from files starting with \"nl_\" and ending with \"_hst.npy\"\n",
    "# and hst_data contains data from files ending with \"_hst.npy\" but not starting with \"nl_\"\n"
   ]
  },
  {
   "cell_type": "code",
   "execution_count": 6,
   "metadata": {
    "execution": {
     "iopub.execute_input": "2024-03-25T14:48:36.690415Z",
     "iopub.status.busy": "2024-03-25T14:48:36.690088Z",
     "iopub.status.idle": "2024-03-25T14:48:36.729028Z",
     "shell.execute_reply": "2024-03-25T14:48:36.728234Z",
     "shell.execute_reply.started": "2024-03-25T14:48:36.690375Z"
    }
   },
   "outputs": [],
   "source": [
    "\n",
    "nl_hst_data = np.array(nl_hst_data )\n",
    "hst_data=np.array(hst_data)"
   ]
  },
  {
   "cell_type": "code",
   "execution_count": 7,
   "metadata": {
    "execution": {
     "iopub.execute_input": "2024-03-25T14:48:36.730530Z",
     "iopub.status.busy": "2024-03-25T14:48:36.730196Z",
     "iopub.status.idle": "2024-03-25T14:48:36.735725Z",
     "shell.execute_reply": "2024-03-25T14:48:36.734863Z",
     "shell.execute_reply.started": "2024-03-25T14:48:36.730499Z"
    }
   },
   "outputs": [
    {
     "name": "stdout",
     "output_type": "stream",
     "text": [
      "(63, 334, 334)\n",
      "(152, 334, 334)\n"
     ]
    }
   ],
   "source": [
    "print(nl_hst_data.shape)\n",
    "print(hst_data.shape)"
   ]
  },
  {
   "cell_type": "code",
   "execution_count": 8,
   "metadata": {
    "execution": {
     "iopub.execute_input": "2024-03-25T14:48:36.737213Z",
     "iopub.status.busy": "2024-03-25T14:48:36.736894Z",
     "iopub.status.idle": "2024-03-25T14:48:36.747490Z",
     "shell.execute_reply": "2024-03-25T14:48:36.746542Z",
     "shell.execute_reply.started": "2024-03-25T14:48:36.737188Z"
    }
   },
   "outputs": [],
   "source": [
    "nl_hst_data=nl_hst_data.reshape(63,334,334,1)\n",
    "hst_data=hst_data.reshape(152,334,334,1)"
   ]
  },
  {
   "cell_type": "code",
   "execution_count": 9,
   "metadata": {
    "execution": {
     "iopub.execute_input": "2024-03-25T14:48:36.749061Z",
     "iopub.status.busy": "2024-03-25T14:48:36.748722Z",
     "iopub.status.idle": "2024-03-25T14:48:36.758807Z",
     "shell.execute_reply": "2024-03-25T14:48:36.757721Z",
     "shell.execute_reply.started": "2024-03-25T14:48:36.749029Z"
    }
   },
   "outputs": [
    {
     "name": "stdout",
     "output_type": "stream",
     "text": [
      "(63, 334, 334, 1)\n",
      "(152, 334, 334, 1)\n"
     ]
    }
   ],
   "source": [
    "print(nl_hst_data.shape)\n",
    "print(hst_data.shape)"
   ]
  },
  {
   "cell_type": "code",
   "execution_count": 10,
   "metadata": {
    "execution": {
     "iopub.execute_input": "2024-03-25T14:48:36.760298Z",
     "iopub.status.busy": "2024-03-25T14:48:36.760026Z",
     "iopub.status.idle": "2024-03-25T14:48:37.084237Z",
     "shell.execute_reply": "2024-03-25T14:48:37.083262Z",
     "shell.execute_reply.started": "2024-03-25T14:48:36.760273Z"
    }
   },
   "outputs": [
    {
     "name": "stdout",
     "output_type": "stream",
     "text": [
      "Images saved successfully.\n"
     ]
    }
   ],
   "source": [
    "\n",
    "# Assuming your images are stored in a NumPy array called 'images'\n",
    "# and you want to save them in PNG format in a folder named 'hr'\n",
    "folder_name = '/kaggle/working/traning/havinglenses'\n",
    "\n",
    "# Create the folder if it doesn't exist\n",
    "if not os.path.exists(folder_name):\n",
    "    os.makedirs(folder_name)\n",
    "\n",
    "# Loop through each image and save it\n",
    "for i, image in enumerate(hst_data):\n",
    "    # Reshape the image if necessary\n",
    "    image = image.reshape((image.shape[0], image.shape[1]))\n",
    "    # Save the image using OpenCV\n",
    "    cv2.imwrite(os.path.join(folder_name, f'image_{i}.png'), image)\n",
    "\n",
    "print(\"Images saved successfully.\")\n"
   ]
  },
  {
   "cell_type": "code",
   "execution_count": 11,
   "metadata": {
    "execution": {
     "iopub.execute_input": "2024-03-25T14:48:37.085787Z",
     "iopub.status.busy": "2024-03-25T14:48:37.085505Z",
     "iopub.status.idle": "2024-03-25T14:48:37.120268Z",
     "shell.execute_reply": "2024-03-25T14:48:37.119429Z",
     "shell.execute_reply.started": "2024-03-25T14:48:37.085762Z"
    }
   },
   "outputs": [
    {
     "name": "stdout",
     "output_type": "stream",
     "text": [
      "Images saved successfully.\n"
     ]
    }
   ],
   "source": [
    "\n",
    "\n",
    "# Assuming your images are stored in a NumPy array called 'images'\n",
    "# and you want to save them in PNG format in a folder named 'hr'\n",
    "folder_name = '/kaggle/working/traning/nohavinglenses'\n",
    "\n",
    "# Create the folder if it doesn't exist\n",
    "if not os.path.exists(folder_name):\n",
    "    os.makedirs(folder_name)\n",
    "\n",
    "# Loop through each image and save it\n",
    "for i, image in enumerate(nl_hst_data):\n",
    "    # Reshape the image if necessary\n",
    "    image = image.reshape((image.shape[0], image.shape[1]))\n",
    "    # Save the image using OpenCV\n",
    "    cv2.imwrite(os.path.join(folder_name, f'image_{i}.png'), image)\n",
    "\n",
    "print(\"Images saved successfully.\")\n"
   ]
  },
  {
   "cell_type": "code",
   "execution_count": 12,
   "metadata": {
    "execution": {
     "iopub.execute_input": "2024-03-25T14:48:37.121668Z",
     "iopub.status.busy": "2024-03-25T14:48:37.121370Z",
     "iopub.status.idle": "2024-03-25T14:48:37.791995Z",
     "shell.execute_reply": "2024-03-25T14:48:37.791109Z",
     "shell.execute_reply.started": "2024-03-25T14:48:37.121637Z"
    }
   },
   "outputs": [
    {
     "data": {
      "image/png": "[encoded data removed]",
      "text/plain": [
       "<Figure size 1000x1000 with 4 Axes>"
      ]
     },
     "metadata": {},
     "output_type": "display_data"
    }
   ],
   "source": [
    "\n",
    "\n",
    "# Path to the training folder\n",
    "training_folder = '/kaggle/working/traning'\n",
    "\n",
    "# List the classes (subfolders) in the training folder\n",
    "classes = os.listdir(training_folder)\n",
    "\n",
    "# Plot five random images from each class in two rows\n",
    "fig, axes = plt.subplots(2, 2, figsize=(10,10 ))\n",
    "\n",
    "for i, class_name in enumerate(classes):\n",
    "    class_folder = os.path.join(training_folder, class_name)\n",
    "    if os.path.isdir(class_folder):\n",
    "        # List images in the class folder\n",
    "        images = os.listdir(class_folder)\n",
    "        # Select five random images\n",
    "        random_images = random.sample(images, 2)\n",
    "        for j, random_image in enumerate(random_images):\n",
    "            # Read the image\n",
    "            image_path = os.path.join(class_folder, random_image)\n",
    "            image = cv2.imread(image_path, cv2.IMREAD_GRAYSCALE)\n",
    "            # Plot the image\n",
    "            axes[i][j].imshow(image)\n",
    "            axes[i][j].set_title(class_name)\n",
    "            axes[i][j].axis('off')\n",
    "\n",
    "plt.tight_layout()\n",
    "plt.show()\n"
   ]
  },
  {
   "cell_type": "code",
   "execution_count": 13,
   "metadata": {
    "execution": {
     "iopub.execute_input": "2024-03-25T14:48:37.793685Z",
     "iopub.status.busy": "2024-03-25T14:48:37.793294Z",
     "iopub.status.idle": "2024-03-25T14:48:39.129612Z",
     "shell.execute_reply": "2024-03-25T14:48:39.128752Z",
     "shell.execute_reply.started": "2024-03-25T14:48:37.793650Z"
    }
   },
   "outputs": [
    {
     "name": "stderr",
     "output_type": "stream",
     "text": [
      "/opt/conda/lib/python3.10/site-packages/seaborn/_oldcore.py:1765: FutureWarning: unique with argument that is not not a Series, Index, ExtensionArray, or np.ndarray is deprecated and will raise in a future version.\n",
      "  order = pd.unique(vector)\n"
     ]
    },
    {
     "data": {
      "image/png": "[encoded data removed]",
      "text/plain": [
       "<Figure size 1000x600 with 1 Axes>"
      ]
     },
     "metadata": {},
     "output_type": "display_data"
    }
   ],
   "source": [
    "import seaborn as sns\n",
    "def count_images_per_class(data_dir):\n",
    "    classes = os.listdir(data_dir)\n",
    "    class_counts = []\n",
    "\n",
    "    for cls in classes:\n",
    "        cls_path = os.path.join(data_dir, cls)\n",
    "        if os.path.isdir(cls_path):\n",
    "            images = [f for f in os.listdir(cls_path) if f.endswith('.png')]\n",
    "            num_images = len(images)\n",
    "            class_counts.append((cls, num_images))\n",
    "\n",
    "    return class_counts\n",
    "\n",
    "# Get the total number of images in each class\n",
    "class_counts = count_images_per_class(training_folder)\n",
    "\n",
    "# Plot the countplot\n",
    "plt.figure(figsize=(10, 6))\n",
    "sns.set(style=\"whitegrid\")\n",
    "sns.barplot(x=[cls[0] for cls in class_counts], y=[cls[1] for cls in class_counts])\n",
    "plt.title('Number of Images in Each Class')\n",
    "plt.xlabel('Class')\n",
    "plt.ylabel('Number of Images')\n",
    "plt.show()"
   ]
  },
  {
   "cell_type": "code",
   "execution_count": 14,
   "metadata": {
    "execution": {
     "iopub.execute_input": "2024-03-25T14:48:39.133699Z",
     "iopub.status.busy": "2024-03-25T14:48:39.133220Z",
     "iopub.status.idle": "2024-03-25T14:49:05.902304Z",
     "shell.execute_reply": "2024-03-25T14:49:05.901539Z",
     "shell.execute_reply.started": "2024-03-25T14:48:39.133672Z"
    }
   },
   "outputs": [
    {
     "name": "stdout",
     "output_type": "stream",
     "text": [
      "Collecting tensorflow-addons\n",
      "  Downloading tensorflow_addons-0.23.0-cp310-cp310-manylinux_2_17_x86_64.manylinux2014_x86_64.whl.metadata (1.8 kB)\n",
      "Requirement already satisfied: packaging in /opt/conda/lib/python3.10/site-packages (from tensorflow-addons) (21.3)\n",
      "Collecting typeguard<3.0.0,>=2.7 (from tensorflow-addons)\n",
      "  Downloading typeguard-2.13.3-py3-none-any.whl.metadata (3.6 kB)\n",
      "Requirement already satisfied: pyparsing!=3.0.5,>=2.0.2 in /opt/conda/lib/python3.10/site-packages (from packaging->tensorflow-addons) (3.1.1)\n",
      "Downloading tensorflow_addons-0.23.0-cp310-cp310-manylinux_2_17_x86_64.manylinux2014_x86_64.whl (611 kB)\n",
      "\u001b[2K   \u001b[90m━━━━━━━━━━━━━━━━━━━━━━━━━━━━━━━━━━━━━━━━\u001b[0m \u001b[32m611.8/611.8 kB\u001b[0m \u001b[31m3.2 MB/s\u001b[0m eta \u001b[36m0:00:00\u001b[0ma \u001b[36m0:00:01\u001b[0m\n",
      "\u001b[?25hDownloading typeguard-2.13.3-py3-none-any.whl (17 kB)\n",
      "Installing collected packages: typeguard, tensorflow-addons\n",
      "  Attempting uninstall: typeguard\n",
      "    Found existing installation: typeguard 4.1.5\n",
      "    Uninstalling typeguard-4.1.5:\n",
      "      Successfully uninstalled typeguard-4.1.5\n",
      "\u001b[31mERROR: pip's dependency resolver does not currently take into account all the packages that are installed. This behaviour is the source of the following dependency conflicts.\n",
      "ydata-profiling 4.6.4 requires numpy<1.26,>=1.16.0, but you have numpy 1.26.4 which is incompatible.\n",
      "ydata-profiling 4.6.4 requires typeguard<5,>=4.1.2, but you have typeguard 2.13.3 which is incompatible.\u001b[0m\u001b[31m\n",
      "\u001b[0mSuccessfully installed tensorflow-addons-0.23.0 typeguard-2.13.3\n"
     ]
    },
    {
     "name": "stderr",
     "output_type": "stream",
     "text": [
      "2024-03-25 14:48:54.951308: E external/local_xla/xla/stream_executor/cuda/cuda_dnn.cc:9261] Unable to register cuDNN factory: Attempting to register factory for plugin cuDNN when one has already been registered\n",
      "2024-03-25 14:48:54.951436: E external/local_xla/xla/stream_executor/cuda/cuda_fft.cc:607] Unable to register cuFFT factory: Attempting to register factory for plugin cuFFT when one has already been registered\n",
      "2024-03-25 14:48:55.111330: E external/local_xla/xla/stream_executor/cuda/cuda_blas.cc:1515] Unable to register cuBLAS factory: Attempting to register factory for plugin cuBLAS when one has already been registered\n",
      "/opt/conda/lib/python3.10/site-packages/tensorflow_addons/utils/tfa_eol_msg.py:23: UserWarning: \n",
      "\n",
      "TensorFlow Addons (TFA) has ended development and introduction of new features.\n",
      "TFA has entered a minimal maintenance and release mode until a planned end of life in May 2024.\n",
      "Please modify downstream libraries to take dependencies from other repositories in our TensorFlow community (e.g. Keras, Keras-CV, and Keras-NLP). \n",
      "\n",
      "For more information see: https://github.com/tensorflow/addons/issues/2807 \n",
      "\n",
      "  warnings.warn(\n"
     ]
    },
    {
     "name": "stdout",
     "output_type": "stream",
     "text": [
      "Found 173 images belonging to 2 classes.\n",
      "Found 42 images belonging to 2 classes.\n"
     ]
    }
   ],
   "source": [
    "!pip install tensorflow-addons\n",
    "import os\n",
    "import numpy as np\n",
    "import tensorflow as tf\n",
    "from keras import layers, models, optimizers, callbacks\n",
    "from keras.preprocessing.image import ImageDataGenerator\n",
    "import tensorflow_addons as tfa\n",
    "from keras.layers import BatchNormalization, ReLU, Dense, Input, GlobalAveragePooling2D, MultiHeadAttention\n",
    "from keras.models import Model\n",
    "from keras.optimizers import Adam\n",
    "from keras.callbacks import ModelCheckpoint\n",
    "import keras\n",
    "import os\n",
    "import numpy as np\n",
    "import matplotlib.pyplot as plt\n",
    "from keras.utils import Sequence\n",
    "import pandas as pd\n",
    "import keras.backend as K\n",
    "from sklearn.model_selection import train_test_split\n",
    "from keras.preprocessing.image import ImageDataGenerator\n",
    "from keras.layers import Input, Dense, Reshape, Conv2D, MaxPooling2D, Flatten, GlobalAveragePooling2D, BatchNormalization, ReLU, Input, Lambda, MultiHeadAttention, LayerNormalization, Layer\n",
    "from keras.models import Model\n",
    "from keras.optimizers import Adam\n",
    "from keras import layers, Model, Input\n",
    "from keras.layers import Conv2D, BatchNormalization, ReLU, GlobalAveragePooling2D, Input, Lambda, Dense\n",
    "from keras.losses import cosine_similarity\n",
    "\n",
    "\n",
    "batch_size = 16\n",
    "img_size = (334, 334)\n",
    "\n",
    "\n",
    "\n",
    "# Data generator for classification\n",
    "train_datagen = ImageDataGenerator(rescale=1./255,validation_split=0.2)\n",
    "train_generator = train_datagen.flow_from_directory('/kaggle/working/traning',target_size=img_size,batch_size=batch_size,class_mode=\"binary\",subset=\"training\")\n",
    "validation_generator = train_datagen.flow_from_directory('/kaggle/working/traning',target_size=img_size,batch_size=batch_size,class_mode=\"binary\",subset=\"validation\")\n",
    "steps_per_epoch = train_generator.n // batch_size\n",
    "validation_steps = validation_generator.n // batch_size"
   ]
  },
  {
   "cell_type": "code",
   "execution_count": 15,
   "metadata": {
    "execution": {
     "iopub.execute_input": "2024-03-25T14:49:05.903989Z",
     "iopub.status.busy": "2024-03-25T14:49:05.903421Z",
     "iopub.status.idle": "2024-03-25T14:49:05.911308Z",
     "shell.execute_reply": "2024-03-25T14:49:05.910248Z",
     "shell.execute_reply.started": "2024-03-25T14:49:05.903962Z"
    }
   },
   "outputs": [],
   "source": [
    "class RotationalConv2D(tf.keras.layers.Layer):\n",
    "    def __init__(self, num_filters, kernel_size, padding='same', **kwargs):\n",
    "        super(RotationalConv2D, self).__init__(**kwargs)\n",
    "        self.conv = tf.keras.layers.Conv2D(num_filters, kernel_size, padding=padding)\n",
    "\n",
    "    def call(self, inputs):\n",
    "        rotated_inputs = [inputs]\n",
    "        for i in range(1, 4):\n",
    "            rotated_inputs.append(tf.image.rot90(inputs, i))\n",
    "\n",
    "        conv_outputs = []\n",
    "        for rotated_input in rotated_inputs:\n",
    "            conv_outputs.append(self.conv(rotated_input))\n",
    "\n",
    "        output = tf.math.add_n(conv_outputs)\n",
    "        return output"
   ]
  },
  {
   "cell_type": "code",
   "execution_count": 16,
   "metadata": {
    "execution": {
     "iopub.execute_input": "2024-03-25T14:49:05.912963Z",
     "iopub.status.busy": "2024-03-25T14:49:05.912630Z",
     "iopub.status.idle": "2024-03-25T14:49:05.946245Z",
     "shell.execute_reply": "2024-03-25T14:49:05.945356Z",
     "shell.execute_reply.started": "2024-03-25T14:49:05.912933Z"
    }
   },
   "outputs": [],
   "source": [
    "class EquivariantTransformer(tf.keras.layers.Layer):\n",
    "    def __init__(self, num_filters, kernel_size, num_heads, **kwargs):\n",
    "        super(EquivariantTransformer, self).__init__(**kwargs)\n",
    "        self.conv1 = RotationalConv2D(num_filters, kernel_size, padding='same')\n",
    "        self.bn1 = BatchNormalization()\n",
    "        self.relu1 = ReLU()\n",
    "        self.conv2 = RotationalConv2D(num_filters * 2, kernel_size, padding='same')\n",
    "        self.bn2 = BatchNormalization()\n",
    "        self.relu2 = ReLU()\n",
    "        self.conv3 = RotationalConv2D(num_filters * 4, kernel_size, padding='same')\n",
    "        self.bn3 = BatchNormalization()\n",
    "        self.relu3 = ReLU()\n",
    "        self.self_attention1 = MultiHeadAttention(num_heads=num_heads, key_dim=num_filters * 2)\n",
    "        self.self_attention2 = MultiHeadAttention(num_heads=num_heads, key_dim=num_filters * 4)\n",
    "        self.pooling = GlobalAveragePooling2D()\n",
    "\n",
    "    def call(self, inputs):\n",
    "        x = self.conv1(inputs)\n",
    "        x = self.bn1(x)\n",
    "        x = self.relu1(x)\n",
    "        x = self.conv2(x)\n",
    "        x = self.bn2(x)\n",
    "        x = self.relu2(x)\n",
    "        y = self.self_attention1(query=x, key=x, value=x)\n",
    "        x = tf.add(x, y)\n",
    "        x = self.conv3(x)\n",
    "        x = self.bn3(x)\n",
    "        x = self.relu3(x)\n",
    "        y = self.self_attention2(query=x, key=x, value=x)\n",
    "        x = tf.add(x, y)\n",
    "\n",
    "        x = self.pooling(x)\n",
    "        return x"
   ]
  },
  {
   "cell_type": "code",
   "execution_count": 17,
   "metadata": {
    "execution": {
     "iopub.execute_input": "2024-03-25T14:49:05.947606Z",
     "iopub.status.busy": "2024-03-25T14:49:05.947312Z",
     "iopub.status.idle": "2024-03-25T14:49:05.956614Z",
     "shell.execute_reply": "2024-03-25T14:49:05.955685Z",
     "shell.execute_reply.started": "2024-03-25T14:49:05.947572Z"
    }
   },
   "outputs": [],
   "source": [
    "def contrastive_loss(y_true, y_pred, margin=1.0):\n",
    "    square_pred = tf.square(y_pred)\n",
    "    margin_square = tf.square(tf.maximum(margin - y_pred, 0))\n",
    "    return tf.reduce_mean(y_true * square_pred + (1 - y_true) * margin_square)"
   ]
  },
  {
   "cell_type": "code",
   "execution_count": 18,
   "metadata": {
    "execution": {
     "iopub.execute_input": "2024-03-25T14:49:05.958210Z",
     "iopub.status.busy": "2024-03-25T14:49:05.957740Z",
     "iopub.status.idle": "2024-03-25T14:49:10.370220Z",
     "shell.execute_reply": "2024-03-25T14:49:10.369435Z",
     "shell.execute_reply.started": "2024-03-25T14:49:05.958184Z"
    }
   },
   "outputs": [
    {
     "name": "stdout",
     "output_type": "stream",
     "text": [
      "Downloading data from https://storage.googleapis.com/tensorflow/keras-applications/resnet/resnet50_weights_tf_dim_ordering_tf_kernels_notop.h5\n",
      "94765736/94765736 [==============================] - 0s 0us/step\n"
     ]
    }
   ],
   "source": [
    "input_layer = Input(shape=(334, 334, 3))\n",
    "transfer_layer = tf.keras.applications.ResNet50(input_tensor=input_layer, include_top=False, weights='imagenet')\n",
    "equivariant_transformer = EquivariantTransformer(num_filters=128, kernel_size=3, num_heads=3)\n",
    "embedding_layer = Dense(150)\n",
    "\n",
    "transfer_layer_output = transfer_layer.output\n",
    "\n",
    "transformed_output = equivariant_transformer(transfer_layer_output)\n",
    "\n",
    "embeddings = embedding_layer(transformed_output)\n",
    "\n",
    "model = Model(inputs=input_layer, outputs=embeddings)"
   ]
  },
  {
   "cell_type": "code",
   "execution_count": 19,
   "metadata": {
    "execution": {
     "iopub.execute_input": "2024-03-25T14:49:10.371704Z",
     "iopub.status.busy": "2024-03-25T14:49:10.371374Z",
     "iopub.status.idle": "2024-03-25T14:49:10.395704Z",
     "shell.execute_reply": "2024-03-25T14:49:10.395006Z",
     "shell.execute_reply.started": "2024-03-25T14:49:10.371677Z"
    }
   },
   "outputs": [],
   "source": [
    "model.compile(optimizer='adam', loss=contrastive_loss)"
   ]
  },
  {
   "cell_type": "code",
   "execution_count": 20,
   "metadata": {
    "execution": {
     "iopub.execute_input": "2024-03-25T14:49:10.396867Z",
     "iopub.status.busy": "2024-03-25T14:49:10.396626Z",
     "iopub.status.idle": "2024-03-25T14:52:34.631072Z",
     "shell.execute_reply": "2024-03-25T14:52:34.630138Z",
     "shell.execute_reply.started": "2024-03-25T14:49:10.396845Z"
    }
   },
   "outputs": [
    {
     "name": "stdout",
     "output_type": "stream",
     "text": [
      "Epoch 1/30\n"
     ]
    },
    {
     "name": "stderr",
     "output_type": "stream",
     "text": [
      "WARNING: All log messages before absl::InitializeLog() is called are written to STDERR\n",
      "I0000 00:00:1711378178.790589     144 device_compiler.h:186] Compiled cluster using XLA!  This line is logged at most once for the lifetime of the process.\n"
     ]
    },
    {
     "name": "stdout",
     "output_type": "stream",
     "text": [
      "10/10 [==============================] - 66s 2s/step - loss: 0.3731 - val_loss: 47930212352.0000\n",
      "Epoch 2/30\n",
      "10/10 [==============================] - 5s 453ms/step - loss: 0.2973 - val_loss: 21262621474816.0000\n",
      "Epoch 3/30\n",
      "10/10 [==============================] - 5s 455ms/step - loss: 0.2416 - val_loss: 250674413568.0000\n",
      "Epoch 4/30\n",
      "10/10 [==============================] - 5s 454ms/step - loss: 0.2218 - val_loss: 2221411.5000\n",
      "Epoch 5/30\n",
      "10/10 [==============================] - 5s 456ms/step - loss: 0.1861 - val_loss: 328690.6562\n",
      "Epoch 6/30\n",
      "10/10 [==============================] - 5s 455ms/step - loss: 0.2230 - val_loss: 0.5544\n",
      "Epoch 7/30\n",
      "10/10 [==============================] - 5s 467ms/step - loss: 0.2198 - val_loss: 0.5235\n",
      "Epoch 8/30\n",
      "10/10 [==============================] - 5s 460ms/step - loss: 0.2280 - val_loss: 0.6530\n",
      "Epoch 9/30\n",
      "10/10 [==============================] - 5s 463ms/step - loss: 0.1851 - val_loss: 798889.2500\n",
      "Epoch 10/30\n",
      "10/10 [==============================] - 5s 464ms/step - loss: 0.1888 - val_loss: 832430.3125\n",
      "Epoch 11/30\n",
      "10/10 [==============================] - 5s 464ms/step - loss: 0.2139 - val_loss: 41825.4844\n",
      "Epoch 12/30\n",
      "10/10 [==============================] - 5s 474ms/step - loss: 0.1902 - val_loss: 2006.2333\n",
      "Epoch 13/30\n",
      "10/10 [==============================] - 5s 469ms/step - loss: 0.2042 - val_loss: 198.0343\n",
      "Epoch 14/30\n",
      "10/10 [==============================] - 5s 471ms/step - loss: 0.2035 - val_loss: 0.2407\n",
      "Epoch 15/30\n",
      "10/10 [==============================] - 5s 475ms/step - loss: 0.2367 - val_loss: 0.2384\n",
      "Epoch 16/30\n",
      "10/10 [==============================] - 5s 483ms/step - loss: 0.2233 - val_loss: 0.3570\n",
      "Epoch 17/30\n",
      "10/10 [==============================] - 5s 476ms/step - loss: 0.1661 - val_loss: 0.2019\n",
      "Epoch 18/30\n",
      "10/10 [==============================] - 5s 479ms/step - loss: 0.1944 - val_loss: 0.2340\n",
      "Epoch 19/30\n",
      "10/10 [==============================] - 5s 483ms/step - loss: 0.1922 - val_loss: 0.4153\n",
      "Epoch 20/30\n",
      "10/10 [==============================] - 5s 483ms/step - loss: 0.2241 - val_loss: 0.3373\n",
      "Epoch 21/30\n",
      "10/10 [==============================] - 5s 482ms/step - loss: 0.1954 - val_loss: 0.2613\n",
      "Epoch 22/30\n",
      "10/10 [==============================] - 5s 483ms/step - loss: 0.1722 - val_loss: 0.3686\n",
      "Epoch 23/30\n",
      "10/10 [==============================] - 5s 485ms/step - loss: 0.1840 - val_loss: 0.5911\n",
      "Epoch 24/30\n",
      "10/10 [==============================] - 5s 479ms/step - loss: 0.1775 - val_loss: 0.3882\n",
      "Epoch 25/30\n",
      "10/10 [==============================] - 5s 480ms/step - loss: 0.1808 - val_loss: 0.7146\n",
      "Epoch 26/30\n",
      "10/10 [==============================] - 5s 486ms/step - loss: 0.1593 - val_loss: 0.2999\n",
      "Epoch 27/30\n",
      "10/10 [==============================] - 5s 477ms/step - loss: 0.1652 - val_loss: 0.2389\n",
      "Epoch 28/30\n",
      "10/10 [==============================] - 5s 482ms/step - loss: 0.1948 - val_loss: 0.4687\n",
      "Epoch 29/30\n",
      "10/10 [==============================] - 5s 475ms/step - loss: 0.2142 - val_loss: 0.3888\n",
      "Epoch 30/30\n",
      "10/10 [==============================] - 5s 476ms/step - loss: 0.1892 - val_loss: 0.1656\n"
     ]
    }
   ],
   "source": [
    "his=model.fit(train_generator,steps_per_epoch=steps_per_epoch, validation_data=validation_generator, validation_steps=validation_steps, epochs=30)"
   ]
  },
  {
   "cell_type": "code",
   "execution_count": 21,
   "metadata": {
    "execution": {
     "iopub.execute_input": "2024-03-25T14:52:34.633542Z",
     "iopub.status.busy": "2024-03-25T14:52:34.633222Z",
     "iopub.status.idle": "2024-03-25T14:57:15.499308Z",
     "shell.execute_reply": "2024-03-25T14:57:15.498533Z",
     "shell.execute_reply.started": "2024-03-25T14:52:34.633516Z"
    },
    "scrolled": false
   },
   "outputs": [
    {
     "name": "stdout",
     "output_type": "stream",
     "text": [
      "Epoch 1/50\n",
      "10/10 [==============================] - 44s 734ms/step - loss: 0.7177 - auc: 0.5574 - val_loss: 1.1058 - val_auc: 0.5000 - lr: 0.0010\n",
      "Epoch 2/50\n",
      "10/10 [==============================] - 5s 472ms/step - loss: 0.7010 - auc: 0.5578 - val_loss: 0.6900 - val_auc: 0.5000 - lr: 0.0010\n",
      "Epoch 3/50\n",
      "10/10 [==============================] - 5s 473ms/step - loss: 0.6782 - auc: 0.5838 - val_loss: 0.6895 - val_auc: 0.5000 - lr: 0.0010\n",
      "Epoch 4/50\n",
      "10/10 [==============================] - 5s 479ms/step - loss: 0.6777 - auc: 0.5039 - val_loss: 0.6871 - val_auc: 0.5000 - lr: 0.0010\n",
      "Epoch 5/50\n",
      "10/10 [==============================] - 5s 481ms/step - loss: 0.6706 - auc: 0.5726 - val_loss: 0.6856 - val_auc: 0.5000 - lr: 0.0010\n",
      "Epoch 6/50\n",
      "10/10 [==============================] - 5s 486ms/step - loss: 0.6951 - auc: 0.5633 - val_loss: 0.6857 - val_auc: 0.5000 - lr: 0.0010\n",
      "Epoch 7/50\n",
      "10/10 [==============================] - 5s 481ms/step - loss: 0.6687 - auc: 0.5652 - val_loss: 0.6827 - val_auc: 0.5000 - lr: 0.0010\n",
      "Epoch 8/50\n",
      "10/10 [==============================] - 5s 476ms/step - loss: 0.6747 - auc: 0.5392 - val_loss: 0.6792 - val_auc: 0.5000 - lr: 0.0010\n",
      "Epoch 9/50\n",
      "10/10 [==============================] - 5s 490ms/step - loss: 0.6607 - auc: 0.5926 - val_loss: 0.7136 - val_auc: 0.5000 - lr: 0.0010\n",
      "Epoch 10/50\n",
      "10/10 [==============================] - 5s 484ms/step - loss: 0.6613 - auc: 0.6512 - val_loss: 0.6735 - val_auc: 0.5000 - lr: 0.0010\n",
      "Epoch 11/50\n",
      "10/10 [==============================] - 5s 483ms/step - loss: 0.6496 - auc: 0.6093 - val_loss: 0.6771 - val_auc: 0.5000 - lr: 0.0010\n",
      "Epoch 12/50\n",
      "10/10 [==============================] - 5s 478ms/step - loss: 0.6803 - auc: 0.5867 - val_loss: 0.6757 - val_auc: 0.5000 - lr: 0.0010\n",
      "Epoch 13/50\n",
      "10/10 [==============================] - 5s 464ms/step - loss: 0.6748 - auc: 0.5063 - val_loss: 0.6674 - val_auc: 0.5000 - lr: 0.0010\n",
      "Epoch 14/50\n",
      "10/10 [==============================] - 5s 464ms/step - loss: 0.6667 - auc: 0.5424 - val_loss: 0.6657 - val_auc: 0.5000 - lr: 0.0010\n",
      "Epoch 15/50\n",
      "10/10 [==============================] - 5s 470ms/step - loss: 0.6607 - auc: 0.5651 - val_loss: 0.8169 - val_auc: 0.5000 - lr: 0.0010\n",
      "Epoch 16/50\n",
      "10/10 [==============================] - 5s 477ms/step - loss: 0.6600 - auc: 0.6344 - val_loss: 0.8450 - val_auc: 0.5000 - lr: 0.0010\n",
      "Epoch 17/50\n",
      "10/10 [==============================] - 5s 475ms/step - loss: 0.6733 - auc: 0.6087 - val_loss: 0.9258 - val_auc: 0.5000 - lr: 0.0010\n",
      "Epoch 18/50\n",
      "10/10 [==============================] - 5s 475ms/step - loss: 0.6158 - auc: 0.5960 - val_loss: 6.4480 - val_auc: 0.5000 - lr: 0.0010\n",
      "Epoch 19/50\n",
      "10/10 [==============================] - 5s 476ms/step - loss: 0.6324 - auc: 0.6368 - val_loss: 0.6575 - val_auc: 0.5000 - lr: 0.0010\n",
      "Epoch 20/50\n",
      "10/10 [==============================] - 5s 475ms/step - loss: 0.5828 - auc: 0.5370 - val_loss: 0.6524 - val_auc: 0.5000 - lr: 0.0010\n",
      "Epoch 21/50\n",
      "10/10 [==============================] - 5s 478ms/step - loss: 0.5530 - auc: 0.6273 - val_loss: 0.7797 - val_auc: 0.5000 - lr: 0.0010\n",
      "Epoch 22/50\n",
      "10/10 [==============================] - 5s 477ms/step - loss: 0.5565 - auc: 0.6682 - val_loss: 0.9344 - val_auc: 0.5000 - lr: 0.0010\n",
      "Epoch 23/50\n",
      "10/10 [==============================] - 5s 483ms/step - loss: 0.5506 - auc: 0.6732 - val_loss: 0.6569 - val_auc: 0.5000 - lr: 0.0010\n",
      "Epoch 24/50\n",
      "10/10 [==============================] - 5s 479ms/step - loss: 0.5037 - auc: 0.7371 - val_loss: 0.6280 - val_auc: 0.5000 - lr: 0.0010\n",
      "Epoch 25/50\n",
      "10/10 [==============================] - 5s 482ms/step - loss: 0.5198 - auc: 0.7128 - val_loss: 0.8245 - val_auc: 0.5000 - lr: 0.0010\n",
      "Epoch 26/50\n",
      "10/10 [==============================] - 5s 480ms/step - loss: 0.5192 - auc: 0.7258 - val_loss: 16.5681 - val_auc: 0.5000 - lr: 0.0010\n",
      "Epoch 27/50\n",
      "10/10 [==============================] - 5s 479ms/step - loss: 0.5322 - auc: 0.7041 - val_loss: 13.0875 - val_auc: 0.5000 - lr: 0.0010\n",
      "Epoch 28/50\n",
      "10/10 [==============================] - 5s 480ms/step - loss: 0.5685 - auc: 0.6844 - val_loss: 0.5513 - val_auc: 0.5000 - lr: 0.0010\n",
      "Epoch 29/50\n",
      "10/10 [==============================] - 5s 479ms/step - loss: 0.8329 - auc: 0.6367 - val_loss: 9.6481 - val_auc: 0.5000 - lr: 0.0010\n",
      "Epoch 30/50\n",
      "10/10 [==============================] - 5s 481ms/step - loss: 0.7047 - auc: 0.6138 - val_loss: 15.0811 - val_auc: 0.5000 - lr: 0.0010\n",
      "Epoch 31/50\n",
      "10/10 [==============================] - 5s 477ms/step - loss: 0.5862 - auc: 0.6324 - val_loss: 7.0674 - val_auc: 0.5000 - lr: 0.0010\n",
      "Epoch 32/50\n",
      "10/10 [==============================] - 5s 479ms/step - loss: 0.6211 - auc: 0.6470 - val_loss: 7.1221 - val_auc: 0.5000 - lr: 0.0010\n",
      "Epoch 33/50\n",
      "10/10 [==============================] - 5s 477ms/step - loss: 0.5464 - auc: 0.6958 - val_loss: 7.0631 - val_auc: 0.5000 - lr: 0.0010\n",
      "Epoch 34/50\n",
      "10/10 [==============================] - 5s 479ms/step - loss: 0.5091 - auc: 0.7711 - val_loss: 5.6127 - val_auc: 0.5000 - lr: 1.0000e-04\n",
      "Epoch 35/50\n",
      "10/10 [==============================] - 5s 484ms/step - loss: 0.5145 - auc: 0.7446 - val_loss: 5.1488 - val_auc: 0.5000 - lr: 1.0000e-04\n",
      "Epoch 36/50\n",
      "10/10 [==============================] - 5s 479ms/step - loss: 0.5013 - auc: 0.7323 - val_loss: 4.8729 - val_auc: 0.5000 - lr: 1.0000e-04\n",
      "Epoch 37/50\n",
      "10/10 [==============================] - 5s 485ms/step - loss: 0.5039 - auc: 0.7300 - val_loss: 3.9467 - val_auc: 0.5000 - lr: 1.0000e-04\n",
      "Epoch 38/50\n",
      "10/10 [==============================] - 5s 487ms/step - loss: 0.5063 - auc: 0.7111 - val_loss: 3.8316 - val_auc: 0.5000 - lr: 1.0000e-04\n",
      "Epoch 39/50\n",
      "10/10 [==============================] - 5s 485ms/step - loss: 0.4960 - auc: 0.7103 - val_loss: 3.2588 - val_auc: 0.5000 - lr: 1.0000e-05\n",
      "Epoch 40/50\n",
      "10/10 [==============================] - 5s 476ms/step - loss: 0.5200 - auc: 0.6839 - val_loss: 2.2063 - val_auc: 0.5000 - lr: 1.0000e-05\n",
      "Epoch 41/50\n",
      "10/10 [==============================] - 5s 477ms/step - loss: 0.5014 - auc: 0.7377 - val_loss: 1.9861 - val_auc: 0.5000 - lr: 1.0000e-05\n",
      "Epoch 42/50\n",
      "10/10 [==============================] - 5s 480ms/step - loss: 0.4779 - auc: 0.7147 - val_loss: 1.4065 - val_auc: 0.5000 - lr: 1.0000e-05\n",
      "Epoch 43/50\n",
      "10/10 [==============================] - 5s 479ms/step - loss: 0.4888 - auc: 0.7578 - val_loss: 1.2449 - val_auc: 0.5000 - lr: 1.0000e-05\n",
      "Epoch 44/50\n",
      "10/10 [==============================] - 5s 479ms/step - loss: 0.4723 - auc: 0.7605 - val_loss: 1.1054 - val_auc: 0.5000 - lr: 1.0000e-06\n",
      "Epoch 45/50\n",
      "10/10 [==============================] - 5s 488ms/step - loss: 0.4789 - auc: 0.7861 - val_loss: 0.9122 - val_auc: 0.5000 - lr: 1.0000e-06\n",
      "Epoch 46/50\n",
      "10/10 [==============================] - 5s 481ms/step - loss: 0.4886 - auc: 0.7112 - val_loss: 0.8007 - val_auc: 0.5000 - lr: 1.0000e-06\n",
      "Epoch 47/50\n",
      "10/10 [==============================] - 5s 485ms/step - loss: 0.4979 - auc: 0.7529 - val_loss: 0.7291 - val_auc: 0.5000 - lr: 1.0000e-06\n",
      "Epoch 48/50\n",
      "10/10 [==============================] - 5s 479ms/step - loss: 0.4484 - auc: 0.8232 - val_loss: 0.6812 - val_auc: 0.5000 - lr: 1.0000e-06\n",
      "Epoch 49/50\n",
      "10/10 [==============================] - 5s 478ms/step - loss: 0.4913 - auc: 0.7329 - val_loss: 0.6530 - val_auc: 0.5000 - lr: 1.0000e-07\n",
      "Epoch 50/50\n",
      "10/10 [==============================] - 5s 480ms/step - loss: 0.5089 - auc: 0.7469 - val_loss: 0.6356 - val_auc: 0.5000 - lr: 1.0000e-07\n"
     ]
    }
   ],
   "source": [
    "from keras.callbacks import ModelCheckpoint, ReduceLROnPlateau\n",
    "import keras\n",
    "\n",
    "\n",
    "reduce_lr = ReduceLROnPlateau(monitor='val_loss', factor=0.1, patience=5, min_lr=1e-7)\n",
    "\n",
    "additional_layer = Dense(16, activation='relu')(transformed_output)\n",
    "classification_model = Dense(1, activation='sigmoid')(additional_layer)\n",
    "model = Model(inputs=input_layer, outputs=classification_model)\n",
    "model.compile(optimizer='adam', loss='binary_crossentropy', metrics=[keras.metrics.AUC()])\n",
    "history=model.fit(train_generator,steps_per_epoch=steps_per_epoch, validation_data=validation_generator, validation_steps=validation_steps, epochs=50, callbacks=[reduce_lr])\n"
   ]
  },
  {
   "cell_type": "code",
   "execution_count": 22,
   "metadata": {
    "execution": {
     "iopub.execute_input": "2024-03-25T14:57:15.501049Z",
     "iopub.status.busy": "2024-03-25T14:57:15.500757Z",
     "iopub.status.idle": "2024-03-25T14:57:17.170969Z",
     "shell.execute_reply": "2024-03-25T14:57:17.170152Z",
     "shell.execute_reply.started": "2024-03-25T14:57:15.501024Z"
    }
   },
   "outputs": [
    {
     "name": "stderr",
     "output_type": "stream",
     "text": [
      "/opt/conda/lib/python3.10/site-packages/keras/src/engine/training.py:3103: UserWarning: You are saving your model as an HDF5 file via `model.save()`. This file format is considered legacy. We recommend using instead the native Keras format, e.g. `model.save('my_model.keras')`.\n",
      "  saving_api.save_model(\n"
     ]
    }
   ],
   "source": [
    "model.save('lens_classifier.h5')"
   ]
  },
  {
   "cell_type": "code",
   "execution_count": 23,
   "metadata": {
    "execution": {
     "iopub.execute_input": "2024-03-25T14:57:17.172682Z",
     "iopub.status.busy": "2024-03-25T14:57:17.172350Z",
     "iopub.status.idle": "2024-03-25T14:57:19.520846Z",
     "shell.execute_reply": "2024-03-25T14:57:19.519819Z",
     "shell.execute_reply.started": "2024-03-25T14:57:17.172656Z"
    }
   },
   "outputs": [],
   "source": [
    "from keras.models import load_model\n",
    "loaded_model = load_model('lens_classifier.h5', custom_objects={'EquivariantTransformer': EquivariantTransformer}, compile=False)"
   ]
  },
  {
   "cell_type": "code",
   "execution_count": 24,
   "metadata": {
    "execution": {
     "iopub.execute_input": "2024-03-25T14:57:19.522577Z",
     "iopub.status.busy": "2024-03-25T14:57:19.522235Z",
     "iopub.status.idle": "2024-03-25T14:57:24.332691Z",
     "shell.execute_reply": "2024-03-25T14:57:24.331295Z",
     "shell.execute_reply.started": "2024-03-25T14:57:19.522551Z"
    }
   },
   "outputs": [
    {
     "name": "stdout",
     "output_type": "stream",
     "text": [
      "1/1 [==============================] - 2s 2s/step\n",
      "1/1 [==============================] - 0s 41ms/step\n",
      "1/1 [==============================] - 2s 2s/step\n"
     ]
    }
   ],
   "source": [
    "y_true = []\n",
    "y_pred = []\n",
    "\n",
    "for i in range(3):\n",
    "    X_batch, y_batch = validation_generator[i]\n",
    "    y_true.extend(y_batch)\n",
    "    y_pred.extend(loaded_model.predict(X_batch))\n",
    "\n",
    "y_true = np.array(y_true)\n",
    "y_pred = np.array(y_pred)"
   ]
  },
  {
   "cell_type": "code",
   "execution_count": 25,
   "metadata": {
    "execution": {
     "iopub.execute_input": "2024-03-25T14:57:24.334492Z",
     "iopub.status.busy": "2024-03-25T14:57:24.334129Z",
     "iopub.status.idle": "2024-03-25T14:57:24.841479Z",
     "shell.execute_reply": "2024-03-25T14:57:24.840648Z",
     "shell.execute_reply.started": "2024-03-25T14:57:24.334459Z"
    }
   },
   "outputs": [
    {
     "data": {
      "image/png": "[encoded data removed]",
      "text/plain": [
       "<Figure size 1200x400 with 2 Axes>"
      ]
     },
     "metadata": {},
     "output_type": "display_data"
    }
   ],
   "source": [
    "from sklearn.metrics import confusion_matrix, roc_curve, auc\n",
    "from sklearn.preprocessing import label_binarize\n",
    "import matplotlib.pyplot as plt\n",
    "import numpy as np\n",
    "\n",
    "# Ensure y_true is a binary array\n",
    "y_true = np.array(y_true, dtype=int)\n",
    "\n",
    "# Binarize y_pred\n",
    "y_pred_binary = np.round(y_pred)\n",
    "\n",
    "plt.figure(figsize=(12, 4)) \n",
    "\n",
    "cm = confusion_matrix(y_true, y_pred_binary)\n",
    "plt.subplot(121)\n",
    "plt.imshow(cm, cmap=plt.cm.Blues)\n",
    "plt.title('Confusion Matrix', fontsize=12, fontweight='bold')\n",
    "plt.xlabel('Predicted Labels', fontsize=11, fontweight='bold')\n",
    "plt.ylabel('True Labels', fontsize=11, fontweight='bold')\n",
    "\n",
    "tick_marks = np.arange(2)\n",
    "plt.xticks(tick_marks, [0, 1])\n",
    "plt.yticks(tick_marks, [0, 1], rotation=90)\n",
    "\n",
    "thresh = cm.max() / 2\n",
    "for i in range(cm.shape[0]):\n",
    "    for j in range(cm.shape[1]):\n",
    "        plt.text(j, i, format(cm[i, j], 'd'),\n",
    "                 horizontalalignment=\"center\",\n",
    "                 color=\"white\" if cm[i, j] > thresh else \"black\")\n",
    "\n",
    "fpr, tpr, _ = roc_curve(y_true, y_pred)\n",
    "roc_auc = auc(fpr, tpr)\n",
    "\n",
    "plt.subplot(122)\n",
    "plt.plot(fpr, tpr, label=f\"ROC curve (AUC = {roc_auc:.2f})\")\n",
    "\n",
    "plt.plot([0, 1], [0, 1], 'k--')\n",
    "plt.xlim([0.0, 1.0])\n",
    "plt.ylim([0.0, 1.05])\n",
    "plt.title('Receiver Operating Characteristic (ROC) Curve', fontsize=12, fontweight='bold')\n",
    "plt.xlabel('False Positive Rate', fontsize=11, fontweight='bold')\n",
    "plt.ylabel('True Positive Rate', fontsize=11, fontweight='bold')\n",
    "plt.legend(loc=\"lower right\")\n",
    "\n",
    "plt.subplots_adjust(wspace=0.4)\n",
    "plt.show()\n"
   ]
  },
  {
   "cell_type": "code",
   "execution_count": null,
   "metadata": {},
   "outputs": [],
   "source": []
  }
 ],
 "metadata": {
  "kaggle": {
   "accelerator": "nvidiaTeslaT4",
   "dataSources": [],
   "dockerImageVersionId": 30664,
   "isGpuEnabled": true,
   "isInternetEnabled": true,
   "language": "python",
   "sourceType": "notebook"
  },
  "kernelspec": {
   "display_name": "Python 3 (ipykernel)",
   "language": "python",
   "name": "python3"
  },
  "language_info": {
   "codemirror_mode": {
    "name": "ipython",
    "version": 3
   },
   "file_extension": ".py",
   "mimetype": "text/x-python",
   "name": "python",
   "nbconvert_exporter": "python",
   "pygments_lexer": "ipython3",
   "version": "3.10.5"
  }
 },
 "nbformat": 4,
 "nbformat_minor": 4
}
